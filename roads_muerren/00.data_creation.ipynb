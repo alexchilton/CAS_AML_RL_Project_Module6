{
 "cells": [
  {
   "cell_type": "raw",
   "id": "4d9a040c",
   "metadata": {
    "id": "4d9a040c"
   },
   "source": [
    "Creates a simplified and unified array (altitudes) from various XYZ files (source SwissTopo Alti3dRegio)"
   ]
  },
  {
   "cell_type": "markdown",
   "id": "2hlcLy7i60S-",
   "metadata": {
    "id": "2hlcLy7i60S-"
   },
   "source": [
    "# Libraries"
   ]
  },
  {
   "cell_type": "code",
   "execution_count": 1,
   "id": "XxtO4Tvm6uzj",
   "metadata": {
    "colab": {
     "base_uri": "https://localhost:8080/"
    },
    "executionInfo": {
     "elapsed": 2606,
     "status": "ok",
     "timestamp": 1741628976980,
     "user": {
      "displayName": "Lauro Foletti",
      "userId": "14739900915628810789"
     },
     "user_tz": -60
    },
    "id": "XxtO4Tvm6uzj",
    "outputId": "010f3cff-0a96-4a92-bbf0-777ad4d85e1e"
   },
   "outputs": [
    {
     "ename": "ModuleNotFoundError",
     "evalue": "No module named 'google.colab'",
     "output_type": "error",
     "traceback": [
      "\u001b[0;31m---------------------------------------------------------------------------\u001b[0m",
      "\u001b[0;31mModuleNotFoundError\u001b[0m                       Traceback (most recent call last)",
      "Cell \u001b[0;32mIn[1], line 1\u001b[0m\n\u001b[0;32m----> 1\u001b[0m \u001b[38;5;28;01mfrom\u001b[39;00m \u001b[38;5;21;01mgoogle\u001b[39;00m\u001b[38;5;21;01m.\u001b[39;00m\u001b[38;5;21;01mcolab\u001b[39;00m \u001b[38;5;28;01mimport\u001b[39;00m drive\n\u001b[1;32m      2\u001b[0m drive\u001b[38;5;241m.\u001b[39mmount(\u001b[38;5;124m'\u001b[39m\u001b[38;5;124m/content/gdrive/\u001b[39m\u001b[38;5;124m'\u001b[39m, force_remount\u001b[38;5;241m=\u001b[39m\u001b[38;5;28;01mTrue\u001b[39;00m)\n\u001b[1;32m      4\u001b[0m \u001b[38;5;28;01mimport\u001b[39;00m \u001b[38;5;21;01msys\u001b[39;00m\u001b[38;5;241m,\u001b[39m \u001b[38;5;21;01mos\u001b[39;00m\n",
      "\u001b[0;31mModuleNotFoundError\u001b[0m: No module named 'google.colab'"
     ]
    }
   ],
   "source": [
    "from google.colab import drive\n",
    "drive.mount('/content/gdrive/', force_remount=True)\n",
    "\n",
    "import sys, os\n",
    "py_file_location = \"/content/gdrive/My Drive/AML6/\"\n",
    "sys.path.append(os.path.abspath(py_file_location))"
   ]
  },
  {
   "cell_type": "code",
   "execution_count": 1,
   "id": "2IKY9WMJ7Ah-",
   "metadata": {
    "executionInfo": {
     "elapsed": 41,
     "status": "ok",
     "timestamp": 1741629002192,
     "user": {
      "displayName": "Lauro Foletti",
      "userId": "14739900915628810789"
     },
     "user_tz": -60
    },
    "id": "2IKY9WMJ7Ah-"
   },
   "outputs": [],
   "source": [
    "import numpy as np"
   ]
  },
  {
   "cell_type": "code",
   "execution_count": 2,
   "id": "d3b2135e",
   "metadata": {},
   "outputs": [],
   "source": [
    "py_file_location = ''"
   ]
  },
  {
   "cell_type": "markdown",
   "id": "FRnadEtV7JMC",
   "metadata": {
    "id": "FRnadEtV7JMC"
   },
   "source": [
    "# Create dataset"
   ]
  },
  {
   "cell_type": "code",
   "execution_count": 3,
   "id": "ba21ab21",
   "metadata": {
    "colab": {
     "base_uri": "https://localhost:8080/"
    },
    "executionInfo": {
     "elapsed": 12,
     "status": "ok",
     "timestamp": 1741591216569,
     "user": {
      "displayName": "Lauro Foletti",
      "userId": "14739900915628810789"
     },
     "user_tz": -60
    },
    "id": "ba21ab21",
    "outputId": "4260c917-82de-4de5-f463-d5c8a0c50c7f"
   },
   "outputs": [
    {
     "name": "stdout",
     "output_type": "stream",
     "text": [
      "['2585_1154.xyz', '2585_1164.xyz', '2585_1174.xyz', '2585_1184.xyz', '2585_1194.xyz', '2595_1154.xyz', '2595_1164.xyz', '2595_1174.xyz', '2595_1184.xyz', '2595_1194.xyz', '2605_1154.xyz', '2605_1164.xyz', '2605_1174.xyz', '2605_1184.xyz', '2605_1194.xyz', '2615_1154.xyz', '2615_1164.xyz', '2615_1174.xyz', '2615_1184.xyz', '2615_1194.xyz', '2625_1154.xyz', '2625_1164.xyz', '2625_1174.xyz', '2625_1184.xyz', '2625_1194.xyz', '2635_1154.xyz', '2635_1164.xyz', '2635_1174.xyz', '2635_1184.xyz', '2635_1194.xyz', '2645_1154.xyz', '2645_1164.xyz', '2645_1174.xyz', '2645_1184.xyz', '2645_1194.xyz']\n"
     ]
    }
   ],
   "source": [
    "from os import listdir\n",
    "from os.path import isfile, join\n",
    "\n",
    "directory = py_file_location+\"_xyz/\"\n",
    "onlyfiles = sorted([f for f in listdir(directory) if isfile(join(directory, f)) and f[0]!='.'])\n",
    "print (onlyfiles)\n"
   ]
  },
  {
   "cell_type": "code",
   "execution_count": 4,
   "id": "5b7e1089",
   "metadata": {
    "id": "5b7e1089"
   },
   "outputs": [
    {
     "name": "stdout",
     "output_type": "stream",
     "text": [
      "2585_1154.xyz\n",
      "2585_1164.xyz\n",
      "2585_1174.xyz\n",
      "2585_1184.xyz\n",
      "2585_1194.xyz\n",
      "2595_1154.xyz\n",
      "2595_1164.xyz\n",
      "2595_1174.xyz\n",
      "2595_1184.xyz\n",
      "2595_1194.xyz\n",
      "2605_1154.xyz\n",
      "2605_1164.xyz\n",
      "2605_1174.xyz\n",
      "2605_1184.xyz\n",
      "2605_1194.xyz\n",
      "2615_1154.xyz\n",
      "2615_1164.xyz\n",
      "2615_1174.xyz\n",
      "2615_1184.xyz\n",
      "2615_1194.xyz\n",
      "2625_1154.xyz\n",
      "2625_1164.xyz\n",
      "2625_1174.xyz\n",
      "2625_1184.xyz\n",
      "2625_1194.xyz\n",
      "2635_1154.xyz\n",
      "2635_1164.xyz\n",
      "2635_1174.xyz\n",
      "2635_1184.xyz\n",
      "2635_1194.xyz\n",
      "2645_1154.xyz\n",
      "2645_1164.xyz\n",
      "2645_1174.xyz\n",
      "2645_1184.xyz\n",
      "2645_1194.xyz\n",
      "35 files\n"
     ]
    }
   ],
   "source": [
    "alts = []\n",
    "tile = 50\n",
    "\n",
    "for filename in onlyfiles:\n",
    "\n",
    "    print (filename)\n",
    "\n",
    "    with open(directory+filename, 'r') as f:\n",
    "\n",
    "        data = f.readlines()\n",
    "        data = [d.replace('\\n','').split(' ') for d in data[1:]]\n",
    "        data = [float(l[2]) for l in data]\n",
    "        data = np.array(data)\n",
    "\n",
    "    Z = data.reshape((1000, 1000))\n",
    "\n",
    "    R = np.zeros((int(Z.shape[0]/tile), int(Z.shape[1]/tile)))\n",
    "\n",
    "    for i in range(R.shape[0]):\n",
    "        for ii in range(R.shape[1]):\n",
    "\n",
    "            R[ii,i] = Z[i*tile:(i+1)*tile, ii*tile:(ii+1)*tile].mean()\n",
    "\n",
    "    alts.append(R.copy())\n",
    "\n",
    "print (len(alts), 'files')\n"
   ]
  },
  {
   "cell_type": "code",
   "execution_count": 7,
   "id": "706905a3",
   "metadata": {
    "id": "706905a3",
    "outputId": "4598a16f-33a6-4687-b2dd-3587f2fb2840"
   },
   "outputs": [
    {
     "name": "stdout",
     "output_type": "stream",
     "text": [
      "(20, 20)\n"
     ]
    }
   ],
   "source": [
    "print (alts[0].shape)\n",
    "l = alts[0].shape[0]\n",
    "\n",
    "XYZ = np.zeros((7*l, 5*l))\n",
    "\n",
    "for i in range(len(alts)):\n",
    "    x = i//5\n",
    "    y = 5-(i%5)-1\n",
    "    XYZ[x*l:(x+1)*l, y*l:(y+1)*l] = alts[i]"
   ]
  },
  {
   "cell_type": "markdown",
   "id": "opf9CC1z7Vcx",
   "metadata": {
    "id": "opf9CC1z7Vcx"
   },
   "source": [
    "# Save"
   ]
  },
  {
   "cell_type": "code",
   "execution_count": 6,
   "id": "aa275dc6",
   "metadata": {
    "id": "aa275dc6"
   },
   "outputs": [],
   "source": [
    "import json\n",
    "with open(py_file_location+'_json/xyz.json', 'w') as f:\n",
    "    json.dump(XYZ.tolist(), f)"
   ]
  }
 ],
 "metadata": {
  "colab": {
   "provenance": []
  },
  "kernelspec": {
   "display_name": "Python 3 (ipykernel)",
   "language": "python",
   "name": "python3"
  },
  "language_info": {
   "codemirror_mode": {
    "name": "ipython",
    "version": 3
   },
   "file_extension": ".py",
   "mimetype": "text/x-python",
   "name": "python",
   "nbconvert_exporter": "python",
   "pygments_lexer": "ipython3",
   "version": "3.9.20"
  }
 },
 "nbformat": 4,
 "nbformat_minor": 5
}
