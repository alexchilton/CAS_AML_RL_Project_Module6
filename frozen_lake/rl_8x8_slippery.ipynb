{
 "cells": [
  {
   "cell_type": "code",
   "execution_count": 1,
   "id": "initial_id",
   "metadata": {
    "ExecuteTime": {
     "end_time": "2025-02-17T13:04:14.902636Z",
     "start_time": "2025-02-17T13:04:14.790141Z"
    },
    "collapsed": true
   },
   "outputs": [],
   "source": [
    "import numpy as np\n",
    "import gymnasium as gym\n",
    "import random\n",
    "import imageio\n",
    "import os\n",
    "import tqdm\n",
    "\n",
    "#import pickle5 as pickle\n",
    "from tqdm import tqdm  # Instead of tqdm.notebook"
   ]
  },
  {
   "cell_type": "code",
   "execution_count": 2,
   "id": "7320b7bfe952ae67",
   "metadata": {
    "ExecuteTime": {
     "end_time": "2025-02-17T13:04:16.595882Z",
     "start_time": "2025-02-17T13:04:16.587436Z"
    }
   },
   "outputs": [],
   "source": [
    "env = gym.make(\"FrozenLake-v1\", map_name=\"8x8\", is_slippery=True, render_mode=\"rgb_array\")\n",
    "#env = gym.make(\"FrozenLake-v1\", map_name=\"4x4\", is_slippery=False, render_mode=\"human\")\n"
   ]
  },
  {
   "cell_type": "code",
   "execution_count": 3,
   "id": "45f39f3bbc2a277b",
   "metadata": {
    "ExecuteTime": {
     "end_time": "2025-02-17T13:04:19.119998Z",
     "start_time": "2025-02-17T13:04:19.116619Z"
    }
   },
   "outputs": [
    {
     "name": "stdout",
     "output_type": "stream",
     "text": [
      "_____OBSERVATION SPACE_____ \n",
      "\n",
      "Observation Space Discrete(64)\n",
      "Sample observation 52\n"
     ]
    }
   ],
   "source": [
    "# We create our environment with gym.make(\"<name_of_the_environment>\")- `is_slippery=False`: The agent always moves in the intended direction due to the non-slippery nature of the frozen lake (deterministic).\n",
    "print(\"_____OBSERVATION SPACE_____ \\n\")\n",
    "print(\"Observation Space\", env.observation_space)\n",
    "print(\"Sample observation\", env.observation_space.sample()) # Get a random observation"
   ]
  },
  {
   "cell_type": "code",
   "execution_count": 4,
   "id": "4aa44fe2f85c1e67",
   "metadata": {
    "ExecuteTime": {
     "end_time": "2025-02-17T13:04:21.928978Z",
     "start_time": "2025-02-17T13:04:21.926702Z"
    }
   },
   "outputs": [
    {
     "name": "stdout",
     "output_type": "stream",
     "text": [
      "\n",
      " _____ACTION SPACE_____ \n",
      "\n",
      "Action Space Shape 4\n",
      "Action Space Sample 3\n"
     ]
    }
   ],
   "source": [
    "print(\"\\n _____ACTION SPACE_____ \\n\")\n",
    "print(\"Action Space Shape\", env.action_space.n)\n",
    "print(\"Action Space Sample\", env.action_space.sample()) # Take a random action"
   ]
  },
  {
   "cell_type": "code",
   "execution_count": 4,
   "id": "ee1fae8192f16ea0",
   "metadata": {
    "ExecuteTime": {
     "end_time": "2025-02-17T13:04:24.649288Z",
     "start_time": "2025-02-17T13:04:24.645672Z"
    }
   },
   "outputs": [
    {
     "name": "stdout",
     "output_type": "stream",
     "text": [
      "There are  64  possible states\n",
      "There are  4  possible actions\n"
     ]
    }
   ],
   "source": [
    "state_space = env.observation_space.n\n",
    "print(\"There are \", state_space, \" possible states\")\n",
    "\n",
    "action_space = env.action_space.n\n",
    "print(\"There are \", action_space, \" possible actions\")"
   ]
  },
  {
   "cell_type": "code",
   "execution_count": 5,
   "id": "4f45c46a54195f58",
   "metadata": {
    "ExecuteTime": {
     "end_time": "2025-02-17T13:04:27.211290Z",
     "start_time": "2025-02-17T13:04:27.208550Z"
    }
   },
   "outputs": [],
   "source": [
    "# Let's create our Qtable of size (state_space, action_space) and initialized each values at 0 using np.zeros\n",
    "def initialize_q_table(state_space, action_space):\n",
    "    Qtable = np.zeros((state_space, action_space))\n",
    "    return Qtable"
   ]
  },
  {
   "cell_type": "code",
   "execution_count": 6,
   "id": "e00953f907094d5f",
   "metadata": {
    "ExecuteTime": {
     "end_time": "2025-02-17T13:04:29.214753Z",
     "start_time": "2025-02-17T13:04:29.212139Z"
    }
   },
   "outputs": [],
   "source": [
    "Qtable_frozenlake = initialize_q_table(state_space, action_space)"
   ]
  },
  {
   "cell_type": "code",
   "execution_count": 8,
   "id": "8eea2f872946e299",
   "metadata": {
    "ExecuteTime": {
     "end_time": "2025-02-17T13:04:31.169053Z",
     "start_time": "2025-02-17T13:04:31.164383Z"
    }
   },
   "outputs": [],
   "source": [
    "def greedy_policy(Qtable, state):\n",
    "    # Exploitation: take the action with the highest state, action value\n",
    "    action = np.argmax(Qtable[state][:])\n",
    "\n",
    "    return action"
   ]
  },
  {
   "cell_type": "code",
   "execution_count": 9,
   "id": "9facfdd1249c5fc6",
   "metadata": {
    "ExecuteTime": {
     "end_time": "2025-02-17T13:04:33.852147Z",
     "start_time": "2025-02-17T13:04:33.849090Z"
    }
   },
   "outputs": [],
   "source": [
    "def epsilon_greedy_policy(Qtable, state, epsilon):\n",
    "    # Randomly generate a number between 0 and 1\n",
    "    random_num = random.uniform(0,1)\n",
    "    # if random_num > greater than epsilon --> exploitation\n",
    "    if random_num > epsilon:\n",
    "        # Take the action with the highest value given a state\n",
    "        # np.argmax can be useful here\n",
    "        action = greedy_policy(Qtable, state)\n",
    "    # else --> exploration\n",
    "    else:\n",
    "        action = env.action_space.sample()\n",
    "\n",
    "    return action"
   ]
  },
  {
   "cell_type": "code",
   "execution_count": 7,
   "id": "68cee9045a9424b4",
   "metadata": {
    "ExecuteTime": {
     "end_time": "2025-02-17T13:04:44.381496Z",
     "start_time": "2025-02-17T13:04:44.378067Z"
    }
   },
   "outputs": [],
   "source": [
    "# Training parameters\n",
    "n_training_episodes = 500000  # Total training episodes\n",
    "learning_rate = 0.1          # Learning rate\n",
    "\n",
    "# Evaluation parameters\n",
    "n_eval_episodes = 100        # Total number of test episodes\n",
    "\n",
    "# Environment parameters\n",
    "env_id = \"FrozenLake-v1\"     # Name of the environment\n",
    "max_steps = 300               # Max steps per episode\n",
    "gamma = 0.95                 # Discounting rate\n",
    "eval_seed = []               # The evaluation seed of the environment\n",
    "\n",
    "# Exploration parameters\n",
    "max_epsilon = 1.0             # Exploration probability at start\n",
    "min_epsilon = 0.01            # Minimum exploration probability\n",
    "decay_rate = 0.001            # Exponential decay rate for exploration prob"
   ]
  },
  {
   "cell_type": "code",
   "execution_count": null,
   "id": "116e2d194fd5ffeb",
   "metadata": {},
   "outputs": [],
   "source": []
  },
  {
   "cell_type": "code",
   "execution_count": 8,
   "id": "c57888e946799e62",
   "metadata": {
    "ExecuteTime": {
     "end_time": "2025-02-17T13:06:54.164552Z",
     "start_time": "2025-02-17T13:06:54.150915Z"
    }
   },
   "outputs": [],
   "source": [
    "import matplotlib.pyplot as plt\n",
    "\n",
    "def print_policy(Qtable, shape=(8, 8)):\n",
    "    \"\"\"Prints the policy based on the Q-table\"\"\"\n",
    "    policy = np.array([np.argmax(Qtable[i]) for i in range(len(Qtable))])\n",
    "    arrows = ['←', '↓', '→', '↑']\n",
    "    policy_arrows = np.array([arrows[a] for a in policy]).reshape(shape)\n",
    "    print(\"\\nCurrent Policy:\")\n",
    "    print(policy_arrows)\n",
    "\n",
    "def improved_debug_train_v2(n_training_episodes, min_epsilon, max_epsilon, decay_rate, env, max_steps, Qtable):\n",
    "    episode_rewards = []\n",
    "    successful_episodes = []\n",
    "\n",
    "    # Dictionary to track state visitation frequency\n",
    "    state_visits = {i: 0 for i in range(64)}\n",
    "\n",
    "    for episode in range(n_training_episodes):\n",
    "        epsilon = min_epsilon + (max_epsilon - min_epsilon)*np.exp(-decay_rate*episode)\n",
    "\n",
    "        state, info = env.reset()\n",
    "        total_reward = 0\n",
    "        episode_steps = []\n",
    "\n",
    "        for step in range(max_steps):\n",
    "            state_visits[state] += 1\n",
    "\n",
    "            # Epsilon-greedy action selection\n",
    "            random_num = random.uniform(0, 1)\n",
    "            if random_num > epsilon:\n",
    "                action = np.argmax(Qtable[state])\n",
    "            else:\n",
    "                action = env.action_space.sample()\n",
    "\n",
    "            # Take action\n",
    "            new_state, reward, terminated, truncated, info = env.step(action)\n",
    "\n",
    "            # Modified reward structure\n",
    "            if reward == 1:  # Reached goal\n",
    "                reward = 10  # Increase reward for reaching goal\n",
    "            elif terminated:  # Fell in hole\n",
    "                reward = -5  # Larger penalty for falling in hole\n",
    "            else:\n",
    "                reward = -0.01  # Small step penalty\n",
    "\n",
    "            # Q-value update\n",
    "            old_q = Qtable[state][action]\n",
    "            next_max = np.max(Qtable[new_state]) if not terminated else 0\n",
    "            new_q = Qtable[state][action] + learning_rate * (\n",
    "                    reward + gamma * next_max - Qtable[state][action]\n",
    "            )\n",
    "            Qtable[state][action] = new_q\n",
    "\n",
    "            episode_steps.append((state, action, reward, new_state))\n",
    "            total_reward += reward\n",
    "\n",
    "            if reward == 10:  # Reached goal\n",
    "                successful_episodes.append(episode)\n",
    "                #print(f\"\\nGOAL REACHED in episode {episode}!\")\n",
    "                #print(f\"Path taken: {[(s[0], s[1]) for s in episode_steps]}\")\n",
    "                #print_policy(Qtable)\n",
    "                break\n",
    "\n",
    "            if terminated or truncated:\n",
    "                break\n",
    "\n",
    "            state = new_state\n",
    "\n",
    "        episode_rewards.append(total_reward)\n",
    "\n",
    "        # Print progress every 100 episodes\n",
    "        if episode % 1000 == 0:\n",
    "            print(f\"\\nEpisode {episode}\")\n",
    "            print(f\"Average reward: {np.mean(episode_rewards[-100:]):.3f}\")\n",
    "            print(f\"Success rate: {len([x for x in successful_episodes if x > episode-100])/100:.2%}\")\n",
    "            print_policy(Qtable)\n",
    "\n",
    "            # Print least visited states\n",
    "            least_visited = sorted(state_visits.items(), key=lambda x: x[1])[:5]\n",
    "            print(\"\\nLeast visited states:\")\n",
    "            for state, visits in least_visited:\n",
    "                print(f\"State {state}: {visits} visits\")\n",
    "\n",
    "    return Qtable, successful_episodes, episode_rewards, state_visits\n",
    "\n"
   ]
  },
  {
   "cell_type": "code",
   "execution_count": 12,
   "id": "8c76f142391cf6f2",
   "metadata": {
    "ExecuteTime": {
     "end_time": "2025-02-17T12:26:06.772006Z",
     "start_time": "2025-02-17T12:26:06.763778Z"
    }
   },
   "outputs": [],
   "source": []
  },
  {
   "cell_type": "code",
   "execution_count": 9,
   "id": "f0c2697d3a91ab29",
   "metadata": {
    "ExecuteTime": {
     "end_time": "2025-02-17T13:08:14.773583Z",
     "start_time": "2025-02-17T13:08:09.051471Z"
    }
   },
   "outputs": [
    {
     "name": "stdout",
     "output_type": "stream",
     "text": [
      "\n",
      "Starting improved training...\n",
      "\n",
      "Episode 0\n",
      "Average reward: -5.560\n",
      "Success rate: 0.00%\n",
      "\n",
      "Current Policy:\n",
      "[['←' '↓' '←' '←' '←' '←' '←' '←']\n",
      " ['←' '←' '←' '←' '←' '←' '↓' '←']\n",
      " ['←' '←' '←' '←' '←' '←' '↑' '←']\n",
      " ['←' '←' '←' '←' '←' '←' '↓' '←']\n",
      " ['←' '←' '←' '←' '←' '←' '←' '←']\n",
      " ['←' '←' '←' '←' '←' '←' '←' '←']\n",
      " ['←' '←' '←' '←' '←' '←' '←' '←']\n",
      " ['←' '←' '←' '←' '←' '←' '←' '←']]\n",
      "\n",
      "Least visited states:\n",
      "State 4: 0 visits\n",
      "State 5: 0 visits\n",
      "State 6: 0 visits\n",
      "State 7: 0 visits\n",
      "State 15: 0 visits\n",
      "\n",
      "Episode 1000\n",
      "Average reward: -4.881\n",
      "Success rate: 2.00%\n",
      "\n",
      "Current Policy:\n",
      "[['→' '↓' '→' '→' '→' '→' '→' '↓']\n",
      " ['↓' '↑' '↑' '↑' '→' '→' '↓' '→']\n",
      " ['→' '←' '←' '←' '→' '↑' '↓' '↓']\n",
      " ['←' '←' '←' '↓' '←' '←' '→' '→']\n",
      " ['←' '↑' '←' '←' '→' '↓' '↑' '↓']\n",
      " ['←' '←' '←' '←' '←' '←' '←' '→']\n",
      " ['←' '←' '↓' '←' '←' '←' '←' '→']\n",
      " ['←' '↓' '↑' '←' '←' '→' '←' '←']]\n",
      "\n",
      "Least visited states:\n",
      "State 19: 0 visits\n",
      "State 29: 0 visits\n",
      "State 35: 0 visits\n",
      "State 41: 0 visits\n",
      "State 42: 0 visits\n",
      "\n",
      "Episode 2000\n",
      "Average reward: -4.152\n",
      "Success rate: 5.00%\n",
      "\n",
      "Current Policy:\n",
      "[['↑' '→' '→' '→' '→' '→' '→' '↓']\n",
      " ['↑' '↑' '↑' '↑' '↑' '→' '→' '↓']\n",
      " ['↑' '↑' '←' '←' '→' '↑' '→' '↓']\n",
      " ['←' '↑' '←' '↑' '←' '←' '→' '→']\n",
      " ['←' '↑' '←' '←' '→' '↓' '↑' '→']\n",
      " ['←' '←' '←' '←' '↑' '←' '←' '→']\n",
      " ['←' '←' '→' '←' '←' '→' '←' '→']\n",
      " ['↓' '↓' '←' '←' '↓' '↓' '←' '←']]\n",
      "\n",
      "Least visited states:\n",
      "State 19: 0 visits\n",
      "State 29: 0 visits\n",
      "State 35: 0 visits\n",
      "State 41: 0 visits\n",
      "State 42: 0 visits\n",
      "\n",
      "Episode 3000\n",
      "Average reward: -1.814\n",
      "Success rate: 19.00%\n",
      "\n",
      "Current Policy:\n",
      "[['↑' '→' '→' '→' '→' '↑' '→' '←']\n",
      " ['↑' '↑' '↑' '↑' '↑' '↑' '→' '↓']\n",
      " ['↑' '↑' '←' '←' '→' '↑' '→' '↓']\n",
      " ['→' '↑' '←' '↑' '←' '←' '→' '↓']\n",
      " ['←' '↑' '←' '←' '→' '↓' '↑' '→']\n",
      " ['←' '←' '←' '↓' '↑' '←' '←' '→']\n",
      " ['←' '←' '→' '←' '←' '→' '←' '→']\n",
      " ['↑' '↓' '←' '←' '←' '↓' '↓' '←']]\n",
      "\n",
      "Least visited states:\n",
      "State 19: 0 visits\n",
      "State 29: 0 visits\n",
      "State 35: 0 visits\n",
      "State 41: 0 visits\n",
      "State 42: 0 visits\n",
      "\n",
      "Episode 4000\n",
      "Average reward: -1.318\n",
      "Success rate: 22.00%\n",
      "\n",
      "Current Policy:\n",
      "[['↓' '→' '→' '↓' '→' '→' '→' '→']\n",
      " ['↑' '↑' '↑' '↑' '↑' '→' '→' '↓']\n",
      " ['↑' '↑' '←' '←' '→' '↑' '→' '↓']\n",
      " ['↑' '↑' '↑' '↓' '←' '←' '→' '→']\n",
      " ['←' '↑' '←' '←' '→' '↓' '↑' '→']\n",
      " ['←' '←' '←' '→' '↑' '←' '←' '→']\n",
      " ['←' '←' '→' '↑' '←' '→' '←' '→']\n",
      " ['↑' '↓' '←' '←' '↑' '↓' '↓' '←']]\n",
      "\n",
      "Least visited states:\n",
      "State 19: 0 visits\n",
      "State 29: 0 visits\n",
      "State 35: 0 visits\n",
      "State 41: 0 visits\n",
      "State 42: 0 visits\n",
      "\n",
      "Episode 5000\n",
      "Average reward: -0.689\n",
      "Success rate: 25.00%\n",
      "\n",
      "Current Policy:\n",
      "[['↑' '→' '→' '→' '→' '→' '→' '→']\n",
      " ['↑' '↑' '↑' '↑' '↑' '→' '→' '↓']\n",
      " ['↑' '↑' '←' '←' '→' '↑' '→' '→']\n",
      " ['↑' '↑' '←' '↑' '←' '←' '→' '→']\n",
      " ['←' '↑' '←' '←' '→' '↓' '↑' '→']\n",
      " ['←' '←' '←' '↓' '↑' '←' '←' '→']\n",
      " ['←' '←' '←' '↑' '←' '←' '←' '→']\n",
      " ['↑' '↓' '←' '←' '→' '↓' '↓' '←']]\n",
      "\n",
      "Least visited states:\n",
      "State 19: 0 visits\n",
      "State 29: 0 visits\n",
      "State 35: 0 visits\n",
      "State 41: 0 visits\n",
      "State 42: 0 visits\n",
      "\n",
      "Episode 6000\n",
      "Average reward: -0.466\n",
      "Success rate: 24.00%\n",
      "\n",
      "Current Policy:\n",
      "[['→' '→' '→' '→' '↓' '→' '→' '↓']\n",
      " ['↑' '↑' '↑' '↑' '↑' '↑' '→' '→']\n",
      " ['↑' '↑' '←' '←' '→' '↑' '→' '→']\n",
      " ['↑' '↑' '↑' '↑' '←' '←' '→' '→']\n",
      " ['←' '↑' '↑' '←' '→' '↓' '↑' '→']\n",
      " ['←' '←' '←' '↓' '↑' '←' '←' '→']\n",
      " ['←' '←' '↓' '↑' '←' '←' '←' '→']\n",
      " ['↑' '↓' '←' '←' '↓' '↓' '↓' '←']]\n",
      "\n",
      "Least visited states:\n",
      "State 19: 0 visits\n",
      "State 29: 0 visits\n",
      "State 35: 0 visits\n",
      "State 41: 0 visits\n",
      "State 42: 0 visits\n",
      "\n",
      "Episode 7000\n",
      "Average reward: 0.063\n",
      "Success rate: 28.00%\n",
      "\n",
      "Current Policy:\n",
      "[['→' '→' '→' '→' '↓' '→' '→' '→']\n",
      " ['↑' '↑' '↑' '↑' '↑' '↑' '↓' '→']\n",
      " ['↑' '↑' '←' '←' '→' '↑' '→' '→']\n",
      " ['↑' '←' '←' '↓' '←' '←' '→' '→']\n",
      " ['←' '↑' '↑' '←' '→' '↓' '↑' '→']\n",
      " ['←' '←' '←' '→' '↑' '←' '←' '→']\n",
      " ['←' '←' '↓' '←' '←' '←' '←' '→']\n",
      " ['↑' '↓' '←' '←' '↓' '↓' '↓' '←']]\n",
      "\n",
      "Least visited states:\n",
      "State 19: 0 visits\n",
      "State 29: 0 visits\n",
      "State 35: 0 visits\n",
      "State 41: 0 visits\n",
      "State 42: 0 visits\n",
      "\n",
      "Episode 8000\n",
      "Average reward: 1.406\n",
      "Success rate: 38.00%\n",
      "\n",
      "Current Policy:\n",
      "[['↑' '↑' '→' '→' '→' '→' '→' '→']\n",
      " ['↑' '↑' '↑' '↑' '↑' '→' '→' '↓']\n",
      " ['↑' '↑' '←' '←' '→' '↑' '→' '→']\n",
      " ['↑' '←' '←' '↓' '←' '←' '→' '→']\n",
      " ['←' '↑' '↑' '←' '→' '↓' '↑' '→']\n",
      " ['←' '←' '←' '→' '↑' '←' '←' '→']\n",
      " ['←' '←' '→' '←' '←' '←' '←' '→']\n",
      " ['↑' '↓' '←' '←' '↓' '↓' '↓' '←']]\n",
      "\n",
      "Least visited states:\n",
      "State 19: 0 visits\n",
      "State 29: 0 visits\n",
      "State 35: 0 visits\n",
      "State 41: 0 visits\n",
      "State 42: 0 visits\n",
      "\n",
      "Episode 9000\n",
      "Average reward: 1.474\n",
      "Success rate: 36.00%\n",
      "\n",
      "Current Policy:\n",
      "[['→' '→' '→' '→' '↓' '→' '→' '→']\n",
      " ['↑' '↑' '↑' '↑' '↑' '→' '↓' '↓']\n",
      " ['↑' '↑' '←' '←' '→' '↑' '→' '↓']\n",
      " ['↑' '↑' '↑' '↑' '←' '←' '→' '→']\n",
      " ['←' '↑' '↑' '←' '→' '↓' '↑' '→']\n",
      " ['←' '←' '←' '→' '↑' '←' '←' '→']\n",
      " ['←' '←' '←' '↓' '←' '←' '←' '→']\n",
      " ['↑' '↓' '←' '←' '↓' '↓' '↓' '←']]\n",
      "\n",
      "Least visited states:\n",
      "State 19: 0 visits\n",
      "State 29: 0 visits\n",
      "State 35: 0 visits\n",
      "State 41: 0 visits\n",
      "State 42: 0 visits\n",
      "\n",
      "Final Policy:\n",
      "\n",
      "Current Policy:\n",
      "[['←' '→' '→' '→' '→' '→' '→' '→']\n",
      " ['↑' '↑' '↑' '↑' '↑' '↑' '→' '↓']\n",
      " ['↑' '↑' '←' '←' '→' '↑' '→' '↓']\n",
      " ['↑' '↑' '←' '↑' '←' '←' '→' '→']\n",
      " ['←' '↑' '↑' '←' '→' '↓' '↑' '→']\n",
      " ['←' '←' '←' '↑' '→' '←' '←' '→']\n",
      " ['←' '←' '↑' '↓' '←' '←' '←' '→']\n",
      " ['↑' '↓' '↑' '←' '↓' '↓' '↓' '←']]\n",
      "\n",
      "Plotting results...\n"
     ]
    },
    {
     "data": {
      "image/png": "[encoded data removed]",
      "text/plain": [
       "<Figure size 1200x400 with 2 Axes>"
      ]
     },
     "metadata": {},
     "output_type": "display_data"
    }
   ],
   "source": [
    "#Qtable_frozenlake = train(n_training_episodes, min_epsilon, max_epsilon, decay_rate, env, max_steps, Qtable_frozenlake)\n",
    "# Reset parameters with modifications\n",
    "learning_rate = 0.1\n",
    "gamma = 0.99  # Increased from 0.95 to give more weight to future rewards\n",
    "max_steps = 200\n",
    "max_epsilon = 1.0\n",
    "min_epsilon = 0.1  # Increased from 0.01 to maintain some exploration\n",
    "decay_rate = 0.0005  # Increased for faster decay\n",
    "\n",
    "# Initialize fresh Q-table\n",
    "Qtable_frozenlake = initialize_q_table(state_space, action_space)\n",
    "\n",
    "# Run improved training\n",
    "print(\"\\nStarting improved training...\")\n",
    "Qtable_frozenlake, successful_episodes, episode_rewards, state_visits = improved_debug_train_v2(\n",
    "    n_training_episodes=10000,  # Increased episodes\n",
    "    min_epsilon=min_epsilon,\n",
    "    max_epsilon=max_epsilon,\n",
    "    decay_rate=decay_rate,\n",
    "    env=env,\n",
    "    max_steps=max_steps,\n",
    "    Qtable=Qtable_frozenlake\n",
    ")\n",
    "\n",
    "# Final policy visualization\n",
    "print(\"\\nFinal Policy:\")\n",
    "print_policy(Qtable_frozenlake)\n",
    "\n",
    "# Plot training results\n",
    "print(\"\\nPlotting results...\")\n",
    "plt.figure(figsize=(12, 4))\n",
    "plt.subplot(1, 2, 1)\n",
    "plt.plot(episode_rewards)\n",
    "plt.title('Rewards per Episode')\n",
    "plt.xlabel('Episode')\n",
    "plt.ylabel('Total Reward')\n",
    "\n",
    "plt.subplot(1, 2, 2)\n",
    "window_size = 100\n",
    "moving_avg = [np.mean(episode_rewards[i:i+window_size])\n",
    "              for i in range(0, len(episode_rewards)-window_size+1)]\n",
    "plt.plot(moving_avg)\n",
    "plt.title(f'Moving Average ({window_size} episodes)')\n",
    "plt.xlabel('Episode')\n",
    "plt.ylabel('Average Reward')\n",
    "plt.show()\n",
    "#Qtable_frozenlake = improved_debug_train_v2(n_training_episodes, min_epsilon, max_epsilon, decay_rate, env, max_steps, Qtable_frozenlake)"
   ]
  },
  {
   "cell_type": "code",
   "execution_count": 10,
   "id": "d96cd3c7843d9713",
   "metadata": {
    "ExecuteTime": {
     "end_time": "2025-02-17T13:08:42.229693Z",
     "start_time": "2025-02-17T13:08:42.223533Z"
    }
   },
   "outputs": [],
   "source": [
    "def evaluate_agent(env, max_steps, n_eval_episodes, Q, seed):\n",
    "    \"\"\"\n",
    "    Evaluate the agent for ``n_eval_episodes`` episodes and returns average reward and std of reward.\n",
    "    :param env: The evaluation environment\n",
    "    :param max_steps: Maximum number of steps per episode\n",
    "    :param n_eval_episodes: Number of episode to evaluate the agent\n",
    "    :param Q: The Q-table\n",
    "    :param seed: The evaluation seed array (for taxi-v3)\n",
    "    \"\"\"\n",
    "    episode_rewards = []\n",
    "    for episode in tqdm(range(n_eval_episodes)):\n",
    "        if seed:\n",
    "            state, info = env.reset(seed=seed[episode])\n",
    "        else:\n",
    "            state, info = env.reset()\n",
    "        step = 0\n",
    "        truncated = False\n",
    "        terminated = False\n",
    "        total_rewards_ep = 0\n",
    "\n",
    "        for step in range(max_steps):\n",
    "            # Take the action (index) that have the maximum expected future reward given that state\n",
    "            action = greedy_policy(Q, state)\n",
    "            new_state, reward, terminated, truncated, info = env.step(action)\n",
    "            total_rewards_ep += reward\n",
    "\n",
    "            if terminated or truncated:\n",
    "                break\n",
    "            state = new_state\n",
    "        episode_rewards.append(total_rewards_ep)\n",
    "    mean_reward = np.mean(episode_rewards)\n",
    "    std_reward = np.std(episode_rewards)\n",
    "\n",
    "    return mean_reward, std_reward"
   ]
  },
  {
   "cell_type": "code",
   "execution_count": 24,
   "id": "79348ef9e59cc641",
   "metadata": {
    "ExecuteTime": {
     "end_time": "2025-02-17T12:45:09.137043Z",
     "start_time": "2025-02-17T12:45:09.105138Z"
    }
   },
   "outputs": [
    {
     "name": "stderr",
     "output_type": "stream",
     "text": [
      "100%|██████████| 100/100 [00:00<00:00, 9137.32it/s]"
     ]
    },
    {
     "name": "stdout",
     "output_type": "stream",
     "text": [
      "Mean_reward=1.00 +/- 0.00\n"
     ]
    },
    {
     "name": "stderr",
     "output_type": "stream",
     "text": [
      "\n"
     ]
    }
   ],
   "source": [
    "# Evaluate our Agent\n",
    "mean_reward, std_reward = evaluate_agent(env, max_steps, n_eval_episodes, Qtable_frozenlake, eval_seed)\n",
    "print(f\"Mean_reward={mean_reward:.2f} +/- {std_reward:.2f}\")"
   ]
  },
  {
   "cell_type": "code",
   "execution_count": 11,
   "id": "6fab4b6d081ab8b8",
   "metadata": {},
   "outputs": [
    {
     "name": "stdout",
     "output_type": "stream",
     "text": [
      "None\n",
      "Timestep: 83\n",
      "State: 55\n",
      "Action: 2\n",
      "Reward: 1.0\n"
     ]
    }
   ],
   "source": [
    "import numpy as np\n",
    "import gymnasium as gym\n",
    "from IPython.display import clear_output\n",
    "import time\n",
    "\n",
    "def print_frames(frames):\n",
    "    for i, frame in enumerate(frames):\n",
    "        clear_output(wait=True)\n",
    "        print(frame['frame'])\n",
    "        print(f\"Timestep: {i + 1}\")\n",
    "        print(f\"State: {frame['state']}\")\n",
    "        print(f\"Action: {frame['action']}\")\n",
    "        print(f\"Reward: {frame['reward']}\")\n",
    "        time.sleep(0.5)  # Half second between frames\n",
    "\n",
    "def run_episode(env, Qtable, render=True):\n",
    "    frames = []\n",
    "    state, info = env.reset()\n",
    "    terminated = False\n",
    "    truncated = False\n",
    "\n",
    "    while not terminated and not truncated:\n",
    "        # Take the action (index) that have the maximum expected future reward given that state\n",
    "        action = np.argmax(Qtable[state][:])\n",
    "        new_state, reward, terminated, truncated, info = env.step(action)\n",
    "\n",
    "        if render:\n",
    "            frame = env.render()\n",
    "            frames.append({\n",
    "                'frame': frame,\n",
    "                'state': state,\n",
    "                'action': action,\n",
    "                'reward': reward\n",
    "            })\n",
    "\n",
    "        state = new_state\n",
    "\n",
    "    return frames\n",
    "\n",
    "# Create environment\n",
    "env = gym.make(\"FrozenLake-v1\", map_name=\"8x8\", is_slippery=True, render_mode=\"human\")\n",
    "\n",
    "# Use your trained Q-table here\n",
    "frames = run_episode(env, Qtable_frozenlake)\n",
    "print_frames(frames)\n",
    "\n",
    "# Don't forget to close the environment\n",
    "env.close()"
   ]
  },
  {
   "cell_type": "code",
   "execution_count": 13,
   "id": "570ccce95c125480",
   "metadata": {
    "ExecuteTime": {
     "end_time": "2025-02-17T10:46:19.603998Z",
     "start_time": "2025-02-17T10:46:19.601943Z"
    }
   },
   "outputs": [
    {
     "name": "stdout",
     "output_type": "stream",
     "text": [
      "None\n",
      "Timestep: 48\n",
      "State: 55\n",
      "Action: 2\n",
      "Reward: 1.0\n"
     ]
    }
   ],
   "source": [
    "env = gym.make(\"FrozenLake-v1\", map_name=\"8x8\", is_slippery=True, render_mode=\"human\")\n",
    "\n",
    "# Use your trained Q-table here\n",
    "frames = run_episode(env, Qtable_frozenlake)\n",
    "print_frames(frames)\n",
    "\n",
    "# Don't forget to close the environment\n",
    "env.close()"
   ]
  },
  {
   "cell_type": "code",
   "execution_count": null,
   "id": "e242ddeac8c725fd",
   "metadata": {
    "ExecuteTime": {
     "end_time": "2025-02-17T10:46:19.616183Z",
     "start_time": "2025-02-17T10:46:19.614389Z"
    }
   },
   "outputs": [],
   "source": []
  },
  {
   "cell_type": "code",
   "execution_count": null,
   "id": "674be089d6c01784",
   "metadata": {
    "ExecuteTime": {
     "end_time": "2025-02-17T10:46:19.659750Z",
     "start_time": "2025-02-17T10:46:19.658276Z"
    }
   },
   "outputs": [],
   "source": []
  },
  {
   "cell_type": "code",
   "execution_count": null,
   "id": "e46369ecb2ac34f5",
   "metadata": {
    "ExecuteTime": {
     "end_time": "2025-02-17T10:46:19.802346Z",
     "start_time": "2025-02-17T10:46:19.800694Z"
    }
   },
   "outputs": [],
   "source": []
  },
  {
   "cell_type": "code",
   "execution_count": null,
   "id": "38f3b09c41d8b4d4",
   "metadata": {
    "ExecuteTime": {
     "end_time": "2025-02-17T10:46:19.959455Z",
     "start_time": "2025-02-17T10:46:19.955680Z"
    }
   },
   "outputs": [],
   "source": []
  },
  {
   "cell_type": "code",
   "execution_count": null,
   "id": "2a3d8feb2e85e69c",
   "metadata": {
    "ExecuteTime": {
     "end_time": "2025-02-17T10:46:20.062402Z",
     "start_time": "2025-02-17T10:46:20.060626Z"
    }
   },
   "outputs": [],
   "source": []
  }
 ],
 "metadata": {
  "kernelspec": {
   "display_name": "RPGvenv",
   "language": "python",
   "name": "python3"
  },
  "language_info": {
   "codemirror_mode": {
    "name": "ipython",
    "version": 3
   },
   "file_extension": ".py",
   "mimetype": "text/x-python",
   "name": "python",
   "nbconvert_exporter": "python",
   "pygments_lexer": "ipython3",
   "version": "3.11.9"
  }
 },
 "nbformat": 4,
 "nbformat_minor": 5
}
