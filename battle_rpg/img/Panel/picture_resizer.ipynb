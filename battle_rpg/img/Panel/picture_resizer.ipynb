{
 "cells": [
  {
   "cell_type": "code",
   "execution_count": 16,
   "metadata": {},
   "outputs": [
    {
     "name": "stdout",
     "output_type": "stream",
     "text": [
      "Resized image saved to output.png\n",
      "Duplicated image saved to panel_double.png\n"
     ]
    }
   ],
   "source": [
    "from PIL import Image\n",
    "\n",
    "def crop_transparency(img):\n",
    "    \"\"\" Automatically crops out fully transparent pixels from an RGBA image. \"\"\"\n",
    "    bbox = img.getbbox()\n",
    "    if bbox:\n",
    "        return img.crop(bbox)\n",
    "    return img  # Return original if no transparency found\n",
    "\n",
    "def resize_image(input_path, output_path, new_width, new_height):\n",
    "    with Image.open(input_path) as img:\n",
    "        img = img.convert(\"RGBA\")  # Ensure transparency\n",
    "        img = crop_transparency(img)  # Remove extra transparent padding\n",
    "        resized_img = img.resize((new_width, new_height), Image.LANCZOS)\n",
    "        resized_img.save(output_path)\n",
    "        print(f\"Resized image saved to {output_path}\")\n",
    "\n",
    "def duplicate_image_side_by_side(input_path, output_path):\n",
    "    with Image.open(input_path) as img:\n",
    "        width, height = img.size\n",
    "        new_img = Image.new(\"RGBA\", (width * 2, height))  # Transparent background\n",
    "        new_img.paste(img, (0, 0))  # Left copy\n",
    "        new_img.paste(img, (width, 0))  # Right copy\n",
    "        new_img.save(output_path)\n",
    "        print(f\"Duplicated image saved to {output_path}\")\n",
    "\n",
    "# Example usage:\n",
    "resize_image(\"panel.png\", \"output.png\", 400, 150)\n",
    "duplicate_image_side_by_side(\"output.png\", \"panel_double.png\")\n",
    "\n"
   ]
  },
  {
   "cell_type": "code",
   "execution_count": null,
   "metadata": {},
   "outputs": [],
   "source": []
  }
 ],
 "metadata": {
  "kernelspec": {
   "display_name": "myEnv",
   "language": "python",
   "name": "python3"
  },
  "language_info": {
   "codemirror_mode": {
    "name": "ipython",
    "version": 3
   },
   "file_extension": ".py",
   "mimetype": "text/x-python",
   "name": "python",
   "nbconvert_exporter": "python",
   "pygments_lexer": "ipython3",
   "version": "3.11.9"
  }
 },
 "nbformat": 4,
 "nbformat_minor": 2
}
